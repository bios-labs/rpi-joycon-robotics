{
 "cells": [
  {
   "cell_type": "markdown",
   "metadata": {},
   "source": [
    "## (一) 连接与测试"
   ]
  },
  {
   "cell_type": "markdown",
   "metadata": {},
   "source": [
    "#### 1. 创建一个手柄对象 ``joyconrobotics_right``，自动姿态校准和初始化，请将手柄水平放置在桌面上静止"
   ]
  },
  {
   "cell_type": "code",
   "execution_count": null,
   "metadata": {},
   "outputs": [],
   "source": [
    "from joyconrobotics import JoyconRobotics\n",
    "\n",
    "joyconrobotics_right = JoyconRobotics(\"right\")"
   ]
  },
  {
   "cell_type": "markdown",
   "metadata": {},
   "source": [
    "#### 2. 可视化操作适应"
   ]
  },
  {
   "cell_type": "code",
   "execution_count": null,
   "metadata": {},
   "outputs": [],
   "source": [
    "import math\n",
    "import time\n",
    "import matplotlib.pyplot as plt\n",
    "from IPython.display import display, clear_output\n",
    "from glm import vec3\n",
    "from joyconrobotics import JoyconRobotics\n",
    "\n",
    "joyconrobotics_right = JoyconRobotics(\"right\") # , dof_speed=[0.5, 0.5, 0.5, 0.5, 0.5, 0.5]\n",
    "\n",
    "# joyconrobotics_right = JoyconRobotics(\"left\") # , dof_speed=[0.5, 0.5, 0.5, 0.5, 0.5, 0.5]\n",
    "\n",
    "# 创建波形图\n",
    "plt.ion()  # 开启交互模式\n",
    "fig = plt.figure(figsize=(10, 10))\n",
    "ax = fig.add_subplot(111, projection='3d')\n",
    "\n",
    "# 初始化数据容器\n",
    "time_data = []\n",
    "direction_data = [[], [], []]  # 分为三个子数据（假设direction包含三个值）\n",
    "history_x, history_y, history_z = [], [], []  # 用来记录运动历史的坐标\n",
    "\n",
    "max_time = 10  # 数据显示的最大时间范围（单位：秒）\n",
    "x, y, z = 0, 0, 0\n",
    "\n",
    "for i in range(1000):  # 持续获取数据并更新图形\n",
    "    time_data.append(i * 0.05)  # 时间数据\n",
    "\n",
    "    pose, gripper, control_button = joyconrobotics_right.get_control()\n",
    "    x = pose[0]\n",
    "    y = pose[1]\n",
    "    z = pose[2]\n",
    "    direction_data[0].append(pose[3])  # Roll\n",
    "    direction_data[1].append(pose[4])  # Pitch\n",
    "    direction_data[2].append(pose[5])  # Yaw\n",
    "    \n",
    "    # 限制显示的数据长度\n",
    "    if len(time_data) > max_time / 0.05:\n",
    "        time_data = time_data[-int(max_time / 0.05):]\n",
    "        direction_data[0] = direction_data[0][-int(max_time / 0.05):]\n",
    "        direction_data[1] = direction_data[1][-int(max_time / 0.05):]\n",
    "        direction_data[2] = direction_data[2][-int(max_time / 0.05):]\n",
    "    \n",
    "    # 清除上一帧内容\n",
    "    clear_output(wait=True)\n",
    "\n",
    "    # 获取当前的roll, pitch, yaw（单位为弧度），并转换为角度\n",
    "    roll, pitch, yaw = direction_data[0][-1], direction_data[1][-1], direction_data[2][-1]\n",
    "    # yaw = -yaw # for the UI\n",
    "    \n",
    "    roll_deg = math.degrees(roll) # 转换为角度\n",
    "    pitch_deg = math.degrees(pitch)\n",
    "    yaw_deg = math.degrees(yaw)\n",
    "\n",
    "    # 计算朝向的方向向量（可以通过旋转矩阵将roll, pitch, yaw应用于方向向量）\n",
    "    direction_vector = vec3(\n",
    "        math.cos(pitch) * math.cos(yaw),\n",
    "        math.cos(pitch) * math.sin(yaw),\n",
    "        math.sin(pitch))\n",
    "    \n",
    "    # 绘制朝向的方向矢量（粗箭头）\n",
    "    ax.clear()  # 清除之前的图像\n",
    "    # ax.quiver(x, y, z, direction_vector[0], direction_vector[1], direction_vector[2], length=0.02, color='b', label='Robot Direction', linewidth=5, arrow_length_ratio=0.01)\n",
    "    \n",
    "    ax.quiver(x, y, z, direction_vector[0], direction_vector[1], direction_vector[2], \n",
    "          length=0.05, color='b', label='Robot Direction', linewidth=5, arrow_length_ratio=0.5)\n",
    "\n",
    "\n",
    "    # 记录当前位置\n",
    "    history_x.append(x)\n",
    "    history_y.append(y)\n",
    "    history_z.append(z)\n",
    "    \n",
    "    # 绘制历史轨迹\n",
    "    ax.plot(history_x, history_y, history_z, color='r', alpha=1, label='Motion Path')\n",
    "\n",
    "    # 设置轴标签\n",
    "    ax.set_xlabel('X')\n",
    "    ax.set_ylabel('Y')\n",
    "    ax.set_zlabel('Z')\n",
    "    ax.set_title(f'Roll: {roll_deg:.2f}° | Pitch: {pitch_deg:.2f}° | Yaw: {yaw_deg:.2f}°')\n",
    "\n",
    "    # 设置图形显示范围\n",
    "    ax.set_xlim([ 0.0, 0.5])\n",
    "    ax.set_ylim([-0.5, 0.5])\n",
    "    ax.set_zlim([-0.1, 0.5])\n",
    "    \n",
    "    ax.legend(loc='upper right')\n",
    "    \n",
    "    # 显示图形\n",
    "    display(fig)\n",
    "    \n",
    "    # 关闭按键\n",
    "    if joyconrobotics_right.button.get_button_x() == 1:\n",
    "        print('你按下了 x 按键，程序结束')\n",
    "        break\n",
    "    \n",
    "    # 暂停一段时间，模拟实时数据获取\n",
    "    time.sleep(0.01)\n",
    "\n",
    "plt.ioff()  # 关闭交互模式"
   ]
  },
  {
   "cell_type": "markdown",
   "metadata": {},
   "source": [
    "----"
   ]
  },
  {
   "cell_type": "markdown",
   "metadata": {},
   "source": [
    "## (二) 更多数据"
   ]
  },
  {
   "cell_type": "markdown",
   "metadata": {},
   "source": [
    "#### 1. 观察 Orientation 波形图"
   ]
  },
  {
   "cell_type": "code",
   "execution_count": null,
   "metadata": {},
   "outputs": [],
   "source": [
    "import time\n",
    "import matplotlib.pyplot as plt\n",
    "from IPython.display import display, clear_output\n",
    "\n",
    "from joyconrobotics import JoyconRobotics\n",
    "\n",
    "joyconrobotics_right = JoyconRobotics(\"right\")\n",
    "\n",
    "# 创建波形图\n",
    "plt.ion()  # 开启交互模式\n",
    "fig, ax = plt.subplots(figsize=(10, 5))\n",
    "\n",
    "# 初始化数据容器\n",
    "time_data = []\n",
    "direction_data = [[], [], []]  # 分为三个子数据（假设direction包含三个值）\n",
    "\n",
    "# 设置显示的时间范围\n",
    "max_time = 10  # 数据显示的最大时间范围（单位：秒）\n",
    "\n",
    "for i in range(1000):  # 持续获取数据并更新图形\n",
    "    # 获取数据\n",
    "    time_data.append(i * 0.05)  # 时间数据\n",
    "    \n",
    "    pose, gripper,_ = joyconrobotics_right.get_control()\n",
    "    \n",
    "    direction_data[0].append(pose[3])  \n",
    "    direction_data[1].append(pose[4])  \n",
    "    direction_data[2].append(pose[5])  \n",
    "    \n",
    "    # 限制显示的数据长度\n",
    "    if len(time_data) > max_time / 0.05:\n",
    "        time_data = time_data[-int(max_time / 0.05):]\n",
    "        direction_data[0] = direction_data[0][-int(max_time / 0.05):]\n",
    "        direction_data[1] = direction_data[1][-int(max_time / 0.05):]\n",
    "        direction_data[2] = direction_data[2][-int(max_time / 0.05):]\n",
    "    \n",
    "    # 清除上一帧内容\n",
    "    clear_output(wait=True)\n",
    "\n",
    "    # 绘制波形图\n",
    "    ax.clear()\n",
    "    ax.plot(time_data, direction_data[0], label='Roll (X)', color='r')  # Roll (X轴)，红色 [-0.6, +0.6] ，正面朝上的时候是 +0.6，- 0.6交叉\n",
    "    ax.plot(time_data, direction_data[1], label='Pitch (Y)', color='g')  # Pitch (Y轴)，绿色\n",
    "    ax.plot(time_data, direction_data[2], label='Yaw (Z)', color='b')  # Yaw (Z轴)，蓝色 并不会累计\n",
    "    \n",
    "    ax.set_xlabel('Time (s)')\n",
    "    ax.set_ylabel('Value')\n",
    "    ax.legend(loc='upper right')\n",
    "    ax.set_title(f'Roll: {direction_data[0][-1]:.2f}° | Pitch: {direction_data[1][-1]:.2f}° | Yaw: {direction_data[2][-1]:.2f}°')\n",
    "    \n",
    "    # 显示图形\n",
    "    display(fig)\n",
    "    \n",
    "    if joyconrobotics_right.listen_button('home') == 1:\n",
    "      joyconrobotics_right.reset_joycon()\n",
    "      \n",
    "    # 关闭按键\n",
    "    if joyconrobotics_right.button.get_button_x() == 1:\n",
    "        print('你按下了 x 按键，程序结束')\n",
    "        break\n",
    "    \n",
    "    # 暂停一段时间，模拟实时数据获取\n",
    "    time.sleep(0.001)\n",
    "\n",
    "\n",
    "plt.ioff()  # 关闭交互模式"
   ]
  },
  {
   "cell_type": "markdown",
   "metadata": {},
   "source": [
    "#### 2. 读取位姿和夹爪控制（单击扳机 => 切换控制状态）"
   ]
  },
  {
   "cell_type": "code",
   "execution_count": null,
   "metadata": {},
   "outputs": [],
   "source": [
    "import time\n",
    "\n",
    "# 姿态获取\n",
    "while 1:\n",
    "    clear_output(wait=True)\n",
    "    \n",
    "    posture, gripper_status,_ = joyconrobotics_right.get_control()\n",
    "    print(\"posture:\", [f\"{x:.3f}\" for x in posture], f'{gripper_status=}')\n",
    "    \n",
    "    # 关闭按键\n",
    "    if joyconrobotics_right.button.get_button_x() == 1:\n",
    "        print('你按下了 x 按键，程序结束')\n",
    "        break\n",
    "    \n",
    "    time.sleep(0.1)"
   ]
  },
  {
   "cell_type": "markdown",
   "metadata": {},
   "source": [
    "#### 3. 自定义按键"
   ]
  },
  {
   "cell_type": "code",
   "execution_count": null,
   "metadata": {},
   "outputs": [],
   "source": [
    "# 程序说明，不断检测右边手柄的按键状态，当按下 右边手柄扳机键r 时，结束程序循环。\n",
    "# right: r, zr, y, x, a, b, plus, r-stick, home, sr, sl\n",
    "# left: l, zl, left, up, right, down, minis, r-stick, capture, sr, sl\n",
    "\n",
    "\n",
    "import time\n",
    "from joyconrobotics import JoyconRobotics\n",
    "joyconrobotics_right = JoyconRobotics(\"right\")\n",
    "\n",
    "while 1:\n",
    "  r_button_status = joyconrobotics_right.listen_button('r', show_all=True) # show_all 监听所有按键状态的变换\n",
    "  \n",
    "  if r_button_status or joyconrobotics_right.button.get_button_x() == 1:\n",
    "    print('你按下了 扳机键r 或者 x 按键，程序结束')\n",
    "    break\n",
    "\n",
    "  time.sleep(0.1)"
   ]
  },
  {
   "cell_type": "markdown",
   "metadata": {},
   "source": [
    "---"
   ]
  },
  {
   "cell_type": "markdown",
   "metadata": {},
   "source": [
    "#### 结语：\n",
    "\n",
    "祝你玩得愉快！ 盒子桥 2025年1月13日 版权所有"
   ]
  }
 ],
 "metadata": {
  "kernelspec": {
   "display_name": "Python 3",
   "language": "python",
   "name": "python3"
  },
  "language_info": {
   "codemirror_mode": {
    "name": "ipython",
    "version": 3
   },
   "file_extension": ".py",
   "mimetype": "text/x-python",
   "name": "python",
   "nbconvert_exporter": "python",
   "pygments_lexer": "ipython3",
   "version": "3.10.16"
  }
 },
 "nbformat": 4,
 "nbformat_minor": 2
}
